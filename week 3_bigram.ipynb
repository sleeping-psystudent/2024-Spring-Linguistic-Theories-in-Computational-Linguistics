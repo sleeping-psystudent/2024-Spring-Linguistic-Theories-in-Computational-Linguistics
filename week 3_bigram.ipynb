{
 "cells": [
  {
   "cell_type": "markdown",
   "metadata": {},
   "source": [
    "# 第三週加分作業\n",
    "用課堂練習的小語料`dcard-top100`，實作一個bi-gram語言模型，並且用困惑度來評估它的表現 (三個新句子平均)。<br>\n",
    "可以用檔案上傳，或 colab 連結。"
   ]
  },
  {
   "cell_type": "code",
   "execution_count": 1,
   "metadata": {},
   "outputs": [
    {
     "name": "stdout",
     "output_type": "stream",
     "text": [
      "Defaulting to user installation because normal site-packages is not writeable\n",
      "Requirement already satisfied: jieba in /home/godspeed/.local/lib/python3.10/site-packages (0.42.1)\n",
      "Note: you may need to restart the kernel to use updated packages.\n"
     ]
    }
   ],
   "source": [
    "%pip install jieba"
   ]
  },
  {
   "cell_type": "code",
   "execution_count": 2,
   "metadata": {},
   "outputs": [
    {
     "name": "stdout",
     "output_type": "stream",
     "text": [
      "Defaulting to user installation because normal site-packages is not writeable\n",
      "Requirement already satisfied: emoji in /home/godspeed/.local/lib/python3.10/site-packages (2.9.0)\n",
      "Note: you may need to restart the kernel to use updated packages.\n"
     ]
    }
   ],
   "source": [
    "%pip install emoji"
   ]
  },
  {
   "cell_type": "code",
   "execution_count": 3,
   "metadata": {},
   "outputs": [],
   "source": [
    "import pandas as pd\n",
    "import math\n",
    "import jieba\n",
    "from collections import defaultdict\n",
    "import re\n",
    "import emoji"
   ]
  },
  {
   "cell_type": "code",
   "execution_count": 4,
   "metadata": {},
   "outputs": [
    {
     "name": "stdout",
     "output_type": "stream",
     "text": [
      "--2024-03-13 21:49:31--  https://raw.githubusercontent.com/lope-classroom/HW1_spacy/77f8a80e300297f4be17c708244a17133227c49c/dcard-top100.csv\n",
      "Resolving raw.githubusercontent.com (raw.githubusercontent.com)... 185.199.108.133, 185.199.109.133, 185.199.110.133, ...\n",
      "Connecting to raw.githubusercontent.com (raw.githubusercontent.com)|185.199.108.133|:443... "
     ]
    },
    {
     "name": "stdout",
     "output_type": "stream",
     "text": [
      "connected.\n",
      "HTTP request sent, awaiting response... 200 OK\n",
      "Length: 186427 (182K) [text/plain]\n",
      "Saving to: ‘dcard-top100.csv.3’\n",
      "\n",
      "dcard-top100.csv.3  100%[===================>] 182.06K  1.09MB/s    in 0.2s    \n",
      "\n",
      "2024-03-13 21:49:32 (1.09 MB/s) - ‘dcard-top100.csv.3’ saved [186427/186427]\n",
      "\n"
     ]
    }
   ],
   "source": [
    "# load dcard-top100\n",
    "!wget https://raw.githubusercontent.com/lope-classroom/HW1_spacy/77f8a80e300297f4be17c708244a17133227c49c/dcard-top100.csv"
   ]
  },
  {
   "cell_type": "code",
   "execution_count": 5,
   "metadata": {},
   "outputs": [],
   "source": [
    "# read dcard data\n",
    "data = pd.read_csv('dcard-top100.csv')\n",
    "texts = data['content'].tolist()"
   ]
  },
  {
   "cell_type": "markdown",
   "metadata": {},
   "source": [
    "## preprocessing"
   ]
  },
  {
   "cell_type": "code",
   "execution_count": 6,
   "metadata": {},
   "outputs": [],
   "source": [
    "def get_emoji_regexp():\n",
    "    # Sort emoji by length to make sure multi-character emojis are\n",
    "    # matched first\n",
    "    emojis = sorted(emoji.EMOJI_DATA, key=len, reverse=True)\n",
    "    pattern = u'(' + u'|'.join(re.escape(u) for u in emojis) + u')'\n",
    "    return re.compile(pattern)\n"
   ]
  },
  {
   "cell_type": "code",
   "execution_count": 7,
   "metadata": {},
   "outputs": [],
   "source": [
    "# remove english & non-chinese & emoji\n",
    "exp = get_emoji_regexp()\n",
    "clean_texts = []\n",
    "for text in texts:\n",
    "    new = re.sub(r'![\\u4e00-\\u9fa5]', '', text)\n",
    "    new = re.sub(r'[a-zA-Z\\d:\\/\\.\\=\\-\\>\\<]', '', new)\n",
    "    new = exp.sub(repl='', string=new)\n",
    "    lines = new.split('\\n')\n",
    "    clean_texts += lines"
   ]
  },
  {
   "cell_type": "code",
   "execution_count": 8,
   "metadata": {},
   "outputs": [
    {
     "data": {
      "text/plain": [
       "['部分回應在 \\r', '謝謝各位的留言，我都有看完\\r', '好的不好的，我都接受謝謝大家\\r', '\\r', '\\r']"
      ]
     },
     "execution_count": 8,
     "metadata": {},
     "output_type": "execute_result"
    }
   ],
   "source": [
    "clean_texts[:5]"
   ]
  },
  {
   "cell_type": "markdown",
   "metadata": {},
   "source": [
    "## Bigram"
   ]
  },
  {
   "cell_type": "code",
   "execution_count": 9,
   "metadata": {},
   "outputs": [],
   "source": [
    "def train_bigram_model(corpus):\n",
    "    bigram_model = defaultdict(lambda: defaultdict(int))\n",
    "    for sentence in corpus:\n",
    "        tokens = jieba.lcut(sentence)  # 使用jieba進行分詞\n",
    "        for i in range(len(tokens) - 1):\n",
    "            bigram_model[tokens[i]][tokens[i+1]] += 1\n",
    "    # Normalize counts to get probabilities\n",
    "    for first_word in bigram_model:\n",
    "        total_count = sum(bigram_model[first_word].values())\n",
    "        for second_word in bigram_model[first_word]:\n",
    "            bigram_model[first_word][second_word] /= total_count\n",
    "    return bigram_model\n",
    "\n",
    "def calculate_perplexity(sentences, bigram_model):\n",
    "    total_log_probability = 0\n",
    "    total_words = 0\n",
    "    for sentence in sentences:\n",
    "        tokens = jieba.lcut(sentence)  # 使用jieba進行分詞\n",
    "        for i in range(len(tokens) - 1):\n",
    "            first_word = tokens[i]\n",
    "            second_word = tokens[i+1]\n",
    "            # Calculate log probability of the bigram\n",
    "            if first_word in bigram_model and second_word in bigram_model[first_word]:\n",
    "                bigram_probability = bigram_model[first_word][second_word]\n",
    "                total_log_probability += math.log2(bigram_probability)\n",
    "            else:\n",
    "                # Handle unseen bigrams with a small probability\n",
    "                total_log_probability += math.log2(0.0001)\n",
    "            total_words += 1\n",
    "    # Calculate perplexity\n",
    "    perplexity = 2 ** (-total_log_probability / total_words)\n",
    "    return perplexity"
   ]
  },
  {
   "cell_type": "code",
   "execution_count": 10,
   "metadata": {},
   "outputs": [
    {
     "name": "stderr",
     "output_type": "stream",
     "text": [
      "Building prefix dict from the default dictionary ...\n",
      "Loading model from cache /tmp/jieba.cache\n",
      "Loading model cost 0.683 seconds.\n",
      "Prefix dict has been built successfully.\n"
     ]
    }
   ],
   "source": [
    "# Train the bigram model\n",
    "bigram_model = train_bigram_model(clean_texts)"
   ]
  },
  {
   "cell_type": "markdown",
   "metadata": {},
   "source": [
    "## Perplexity"
   ]
  },
  {
   "cell_type": "code",
   "execution_count": 11,
   "metadata": {},
   "outputs": [],
   "source": [
    "# Generate new sentences and calculate perplexity\n",
    "new_sentences = ['被拉麵耽誤的炒麵店', '面試尷尬到，應該可以鑽到地核了', '科技業都怎麼教菜鳥']\n",
    "avg_perplexity = calculate_perplexity(new_sentences, bigram_model)"
   ]
  },
  {
   "cell_type": "code",
   "execution_count": 12,
   "metadata": {},
   "outputs": [
    {
     "name": "stdout",
     "output_type": "stream",
     "text": [
      "Average Perplexity: 7085.858271190905\n"
     ]
    }
   ],
   "source": [
    "print(\"Average Perplexity:\", avg_perplexity)"
   ]
  }
 ],
 "metadata": {
  "kernelspec": {
   "display_name": "Python 3",
   "language": "python",
   "name": "python3"
  },
  "language_info": {
   "codemirror_mode": {
    "name": "ipython",
    "version": 3
   },
   "file_extension": ".py",
   "mimetype": "text/x-python",
   "name": "python",
   "nbconvert_exporter": "python",
   "pygments_lexer": "ipython3",
   "version": "3.10.12"
  }
 },
 "nbformat": 4,
 "nbformat_minor": 2
}
